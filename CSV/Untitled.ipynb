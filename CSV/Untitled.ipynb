{
 "cells": [
  {
   "cell_type": "code",
   "execution_count": 4,
   "id": "425d2e14-8e35-482c-af41-570d357a89d3",
   "metadata": {},
   "outputs": [
    {
     "name": "stdin",
     "output_type": "stream",
     "text": [
      "Enter the Employ ID :  10\n",
      "Enter the name:  Murugan\n",
      "Enter the Designation :  IT Analyst\n",
      "Enter the Conpany name  TCS\n",
      "Continue yes or no yes\n",
      "Enter the Employ ID :  20\n",
      "Enter the name:  Arun\n",
      "Enter the Designation :  Web Developer\n",
      "Enter the Conpany name  ZOHO\n",
      "Continue yes or no no\n"
     ]
    }
   ],
   "source": [
    "import csv\n",
    "with open ('test.csv','w') as file: \n",
    "    w=csv.writer(file)\n",
    "    w.writerow(['Emp_ID','Name','Designation','Company_name'])\n",
    "    while True :\n",
    "        emp=int(input('Enter the Employ ID : '))\n",
    "        name=input('Enter the name: ')\n",
    "        desi=input('Enter the Designation : ')\n",
    "        com=input('Enter the Conpany name ')\n",
    "        w.writerow([emp,name,desi,com])\n",
    "        option=input('Continue yes or no')\n",
    "        if option =='no':\n",
    "            break "
   ]
  },
  {
   "cell_type": "code",
   "execution_count": 16,
   "id": "e814e6cc-a55b-495c-a911-65d767d4aaf1",
   "metadata": {},
   "outputs": [
    {
     "name": "stdout",
     "output_type": "stream",
     "text": [
      "['Emp_ID', 'Name', 'Designation', 'Company_name']\n",
      "['10', 'Murugan', 'IT Analyst', 'TCS']\n",
      "['20', 'Arun', 'Web Developer', 'ZOHO']\n"
     ]
    }
   ],
   "source": [
    "with open ('test.csv','r') as  file:\n",
    "    r=csv.reader(file)\n",
    "    # l=list(r)\n",
    "    for i in r:\n",
    "        print(i)\n",
    "    "
   ]
  },
  {
   "cell_type": "markdown",
   "id": "b8c96313-2f91-4b9f-8991-47aab0563e34",
   "metadata": {},
   "source": [
    "# CSV Reading with Dictionary "
   ]
  },
  {
   "cell_type": "raw",
   "id": "11c0fbaf-3787-4cb9-93a7-e0590f770cbb",
   "metadata": {},
   "source": []
  },
  {
   "cell_type": "code",
   "execution_count": 14,
   "id": "cee807d1-1fae-4721-ab51-a11db1ab9573",
   "metadata": {},
   "outputs": [
    {
     "name": "stdout",
     "output_type": "stream",
     "text": [
      "{'Emp_ID': '10', 'Name': 'Murugan', 'Designation': 'IT Analyst', 'Company_name': 'TCS'}\n",
      "{'Emp_ID': '20', 'Name': 'Arun', 'Designation': 'Web Developer', 'Company_name': 'ZOHO'}\n"
     ]
    }
   ],
   "source": [
    "\n",
    "with open('test.csv','r') as file:\n",
    "    r=csv.DictReader(file)\n",
    "    for i in r:\n",
    "        print(i)"
   ]
  },
  {
   "cell_type": "code",
   "execution_count": 18,
   "id": "38bf44c6-9503-4b08-abab-587d2b3eadd3",
   "metadata": {},
   "outputs": [
    {
     "name": "stdout",
     "output_type": "stream",
     "text": [
      "TCS\n",
      "ZOHO\n"
     ]
    }
   ],
   "source": [
    "with open('test.csv','r') as file:\n",
    "    r=csv.DictReader(file)\n",
    "    for i in r :\n",
    "        print(i.get('Company_name'))"
   ]
  },
  {
   "cell_type": "code",
   "execution_count": 21,
   "id": "577021e4-d129-4f7c-bae4-2758f2fc1eae",
   "metadata": {},
   "outputs": [
    {
     "ename": "TypeError",
     "evalue": "'DictWriter' object is not iterable",
     "output_type": "error",
     "traceback": [
      "\u001b[0;31m---------------------------------------------------------------------------\u001b[0m",
      "\u001b[0;31mTypeError\u001b[0m                                 Traceback (most recent call last)",
      "Cell \u001b[0;32mIn[21], line 4\u001b[0m\n\u001b[1;32m      2\u001b[0m col\u001b[38;5;241m=\u001b[39m[\u001b[38;5;124m'\u001b[39m\u001b[38;5;124mEmp_ID\u001b[39m\u001b[38;5;124m'\u001b[39m,\u001b[38;5;124m'\u001b[39m\u001b[38;5;124mName\u001b[39m\u001b[38;5;124m'\u001b[39m,\u001b[38;5;124m'\u001b[39m\u001b[38;5;124mDesignation\u001b[39m\u001b[38;5;124m'\u001b[39m,\u001b[38;5;124m'\u001b[39m\u001b[38;5;124mCompany_name\u001b[39m\u001b[38;5;124m'\u001b[39m]\n\u001b[1;32m      3\u001b[0m w\u001b[38;5;241m=\u001b[39mcsv\u001b[38;5;241m.\u001b[39mDictWriter(file,fieldnames\u001b[38;5;241m=\u001b[39mcol)\n\u001b[0;32m----> 4\u001b[0m \u001b[38;5;28;01mfor\u001b[39;00m i \u001b[38;5;129;01min\u001b[39;00m w :\n\u001b[1;32m      5\u001b[0m     \u001b[38;5;28mprint\u001b[39m(i)\n",
      "\u001b[0;31mTypeError\u001b[0m: 'DictWriter' object is not iterable"
     ]
    }
   ],
   "source": [
    "with open ('test.csv','w') as file:\n",
    "    col=['Emp_ID','Name','Designation','Company_name']\n",
    "    w=csv.DictWriter(file,fieldnames=col)\n",
    "    for i in w :\n",
    "        print(i)\n"
   ]
  },
  {
   "cell_type": "code",
   "execution_count": null,
   "id": "843f096e-eddb-4d6e-99af-0d03cba515fe",
   "metadata": {},
   "outputs": [],
   "source": []
  }
 ],
 "metadata": {
  "kernelspec": {
   "display_name": "Python 3 (ipykernel)",
   "language": "python",
   "name": "python3"
  },
  "language_info": {
   "codemirror_mode": {
    "name": "ipython",
    "version": 3
   },
   "file_extension": ".py",
   "mimetype": "text/x-python",
   "name": "python",
   "nbconvert_exporter": "python",
   "pygments_lexer": "ipython3",
   "version": "3.11.7"
  }
 },
 "nbformat": 4,
 "nbformat_minor": 5
}
