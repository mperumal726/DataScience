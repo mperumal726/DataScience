{
 "cells": [
  {
   "cell_type": "markdown",
   "id": "390350e3-60bd-4c11-9ec8-11107b148b14",
   "metadata": {},
   "source": [
    "# Module-3 Numeric & Scientific Computing with Python"
   ]
  },
  {
   "cell_type": "markdown",
   "id": "9715fe38-8625-4671-88df-3b542d427f74",
   "metadata": {},
   "source": [
    "# Data sccience is a brance of computer sciene where we study how to store,use and anylyze data for deriving information from it.\n",
    "\n",
    "Shortcuts"
   ]
  },
  {
   "cell_type": "markdown",
   "id": "1db9c8dc-ee7b-4182-92c1-73189f945218",
   "metadata": {},
   "source": []
  },
  {
   "cell_type": "markdown",
   "id": "3b112109-347e-4cd0-8708-3b92900357a9",
   "metadata": {},
   "source": [
    "# * NumPy stand for Numerical Python.It is a Python Library for working with an array\n",
    "* In python , we use the list for purpose of the array but its slow to process.\n",
    "Numpy array is a powerful N-Dimensional array and use in linear agebra,fourier tranform and random numer capabilities.\n",
    "* it provides an array object much faster than traditional Python lists.\n",
    "* NumPy was created in 2005 by Travis Oliphant. It is an open source project and you can use it freely .\n",
    "  \n",
    "Type of Array \n",
    "\n",
    "1)One Dimensional Array \n",
    "2)Multi-Dimensional Array \n",
    "\n"
   ]
  },
  {
   "cell_type": "markdown",
   "id": "c06a4d20-772e-4d85-af27-144e2eda53d8",
   "metadata": {},
   "source": [
    "# Create a one Dimensional array module"
   ]
  },
  {
   "cell_type": "code",
   "execution_count": 4,
   "id": "39ade19a-1f2b-4ce3-a506-2217f5b11753",
   "metadata": {},
   "outputs": [
    {
     "name": "stdout",
     "output_type": "stream",
     "text": [
      "array('i', [9, 5, 7, 3, 4])\n",
      "<class 'array.array'>\n"
     ]
    }
   ],
   "source": [
    "import array as ar\n",
    "arr=ar.array('i',[9,5,7,3,4])\n",
    "print(arr)\n",
    "print(type(arr))"
   ]
  },
  {
   "cell_type": "markdown",
   "id": "f4b495cf-3536-4d22-b8d8-cb4aeb12e819",
   "metadata": {},
   "source": [
    "# Create a one-Dimensional Array using Numpy"
   ]
  },
  {
   "cell_type": "code",
   "execution_count": 9,
   "id": "3103d356-46e4-4d44-9cac-e9f6bc8acab9",
   "metadata": {},
   "outputs": [
    {
     "name": "stdout",
     "output_type": "stream",
     "text": [
      "One Diensional Array\n",
      "[1 2 3 4 5]\n",
      "<class 'numpy.ndarray'>\n",
      "(5,)\n"
     ]
    }
   ],
   "source": [
    "import numpy as np\n",
    "ar=np.array([1,2,3,4,5])\n",
    "print('One Diensional Array')\n",
    "print(ar)\n",
    "print(type(ar))\n",
    "print(ar.shape)"
   ]
  },
  {
   "cell_type": "code",
   "execution_count": 16,
   "id": "ec6e8534-0291-420c-affd-383c135b3f0b",
   "metadata": {},
   "outputs": [
    {
     "name": "stdout",
     "output_type": "stream",
     "text": [
      "int64\n",
      "8\n"
     ]
    }
   ],
   "source": [
    "#Get the data type of an array\n",
    "print(ar.dtype)\n"
   ]
  },
  {
   "cell_type": "code",
   "execution_count": 18,
   "id": "db13516c-d77b-4b86-b08b-8c5f01539f86",
   "metadata": {},
   "outputs": [
    {
     "name": "stdout",
     "output_type": "stream",
     "text": [
      "5\n",
      "5\n",
      "8\n",
      "40\n"
     ]
    }
   ],
   "source": [
    "#To get the size of an array and itemsize\n",
    "print(ar.size)\n",
    "print(len(ar))\n",
    "print(ar.itemsize)\n",
    "print(ar.nbytes) #itemsize+size"
   ]
  },
  {
   "cell_type": "code",
   "execution_count": 14,
   "id": "ed3ff15e-e3eb-4b99-b7da-209e03988fe6",
   "metadata": {},
   "outputs": [
    {
     "name": "stdout",
     "output_type": "stream",
     "text": [
      "1\n"
     ]
    }
   ],
   "source": [
    "# ndim-Number of Dimension in the array\n",
    "print(ar.ndim)"
   ]
  },
  {
   "cell_type": "code",
   "execution_count": 28,
   "id": "711d23e3-a118-4bd9-9fe8-299d8d24b1a3",
   "metadata": {},
   "outputs": [
    {
     "name": "stdout",
     "output_type": "stream",
     "text": [
      "[1.5 2.6 2.1 4.5]\n",
      "<class 'numpy.ndarray'>\n",
      "(4,)\n",
      "float64\n",
      "size of array  4\n",
      "item_size 8\n",
      "byte of array 32\n"
     ]
    }
   ],
   "source": [
    "arr=np.array([1.5,2.6,2.1,4.5])\n",
    "print(arr)\n",
    "print(type(arr))\n",
    "print(arr.shape)\n",
    "print(arr.dtype)\n",
    "print('size of array ',arr.size)\n",
    "print('item_size',arr.itemsize)\n",
    "print('byte of array',arr.nbytes)#itemsize+size"
   ]
  },
  {
   "cell_type": "code",
   "execution_count": 30,
   "id": "76843fc6-436b-45c9-ac98-7115996b3d04",
   "metadata": {},
   "outputs": [
    {
     "name": "stdout",
     "output_type": "stream",
     "text": [
      "[20.+2.j  3.+1.j  5.+2.j]\n",
      "complex128\n",
      "3\n",
      "16\n",
      "48\n"
     ]
    }
   ],
   "source": [
    "#to create a complex array using numpy \n",
    "ar1=np.array([20+2j,3+1j,5+2j])\n",
    "print(ar1)\n",
    "print(ar1.dtype)\n",
    "print(ar1.size)\n",
    "print(ar1.itemsize)\n",
    "print(ar1.nbytes)"
   ]
  },
  {
   "cell_type": "code",
   "execution_count": 35,
   "id": "800bd560-a428-43c1-ba08-8f7ed427cc93",
   "metadata": {},
   "outputs": [
    {
     "name": "stdout",
     "output_type": "stream",
     "text": [
      "[1 5 2 6 2 1 4 5]\n",
      "<class 'numpy.ndarray'>\n",
      "int64\n"
     ]
    }
   ],
   "source": [
    "arr=np.array([1,5,2,6,2,1,4,5])\n",
    "print(arr)\n",
    "print(type(arr))\n",
    "print(arr.dtype)"
   ]
  },
  {
   "cell_type": "code",
   "execution_count": 39,
   "id": "4e16a5ad-4b2b-419c-ac0a-16b80fc1cd29",
   "metadata": {},
   "outputs": [
    {
     "name": "stdout",
     "output_type": "stream",
     "text": [
      "1\n",
      "[1 5 2 6 2]\n"
     ]
    }
   ],
   "source": [
    "#How to access the Numpy Element\n",
    "print(arr[0])\n",
    "print(arr[0:5])"
   ]
  },
  {
   "cell_type": "code",
   "execution_count": 41,
   "id": "f7f0fb8a-3d5b-437f-b0d8-00e0603dfc90",
   "metadata": {},
   "outputs": [
    {
     "name": "stdout",
     "output_type": "stream",
     "text": [
      "[ 1 30  2  6  2  1  4  5]\n"
     ]
    }
   ],
   "source": [
    "#replacing the array element \n",
    "arr[1]=30\n",
    "print(arr)"
   ]
  },
  {
   "cell_type": "code",
   "execution_count": 42,
   "id": "fd9798ed-2c61-4494-abb5-fd5c16c9cd50",
   "metadata": {},
   "outputs": [
    {
     "name": "stdout",
     "output_type": "stream",
     "text": [
      "sum of array is 51\n",
      "Maximum Element in the Array  30\n",
      "Minimum Element in the Array  1\n"
     ]
    }
   ],
   "source": [
    "print('sum of array is',sum(arr))\n",
    "print('Maximum Element in the Array ',max(arr))\n",
    "print('Minimum Element in the Array ',min(arr))"
   ]
  },
  {
   "cell_type": "code",
   "execution_count": 43,
   "id": "2cacb3b3-b55e-4be9-80d0-58f3f16db3fb",
   "metadata": {},
   "outputs": [
    {
     "data": {
      "text/plain": [
       "array([ 1, 30,  2,  6,  2,  1,  4,  5, 10, 20, 30])"
      ]
     },
     "execution_count": 43,
     "metadata": {},
     "output_type": "execute_result"
    }
   ],
   "source": [
    "#append \n",
    "arr1=np.array([10,20,30])\n",
    "np.append(arr,arr1)"
   ]
  },
  {
   "cell_type": "code",
   "execution_count": 47,
   "id": "298a9ecf-5506-48c3-9d8e-1379640b1ff6",
   "metadata": {},
   "outputs": [
    {
     "name": "stdout",
     "output_type": "stream",
     "text": [
      "[ 1 30  2  6  2  1  4  5]\n",
      "Addition of:  [ 4 33  5  9  5  4  7  8]\n"
     ]
    }
   ],
   "source": [
    "#Arithmetic Operation \n",
    "print(arr)\n",
    "print('Addition of: ',arr+3)"
   ]
  },
  {
   "cell_type": "code",
   "execution_count": 49,
   "id": "a5fa17ab-5234-41b2-8f7b-8e838d5cba83",
   "metadata": {},
   "outputs": [
    {
     "name": "stdout",
     "output_type": "stream",
     "text": [
      "range of  [0 1 2 3 4 5 6 7 8 9]\n"
     ]
    }
   ],
   "source": [
    "#arange- array range of value \n",
    "ar2=np.arange (10)\n",
    "print('range of ',ar2)"
   ]
  },
  {
   "cell_type": "code",
   "execution_count": 53,
   "id": "fda1a4be-fc27-42e5-a854-0f50d322fe76",
   "metadata": {},
   "outputs": [
    {
     "name": "stdout",
     "output_type": "stream",
     "text": [
      "['app' 'bat' 'cat' 'dog']\n",
      "<U3\n",
      "4\n",
      "12\n",
      "48\n"
     ]
    }
   ],
   "source": [
    "# to create and display the string array \n",
    "ar3=np.array(['app','bat','cat','dog'])\n",
    "print(ar3)\n",
    "print(ar3.dtype)\n",
    "print(ar3.size)\n",
    "print(ar3.itemsize)\n",
    "print(ar3.nbytes)"
   ]
  },
  {
   "cell_type": "code",
   "execution_count": 57,
   "id": "bde48aed-78b2-4249-a593-f46a2e064032",
   "metadata": {},
   "outputs": [
    {
     "name": "stdout",
     "output_type": "stream",
     "text": [
      "Array is : [ 0  1  2  3  4  5  6  7  8  9 10 11]\n",
      "[ 0.  1.  2.  3.  4.  5.  6.  7.  8.  9. 10. 11.]\n"
     ]
    }
   ],
   "source": [
    "da=np.arange(12)\n",
    "print('Array is :',da)\n",
    "#To Change array data type\n",
    "print(np.array(da,dtype='float'))"
   ]
  },
  {
   "cell_type": "code",
   "execution_count": 58,
   "id": "0e3f5148-a8da-4651-a7e9-24ef8622a1da",
   "metadata": {},
   "outputs": [
    {
     "name": "stdout",
     "output_type": "stream",
     "text": [
      "[11 10  9  8  7  6  5  4  3  2  1  0]\n"
     ]
    }
   ],
   "source": [
    "#slicing\n",
    "print(da[::-1])"
   ]
  },
  {
   "cell_type": "code",
   "execution_count": 62,
   "id": "df311676-9f38-4235-82a9-2b538b944599",
   "metadata": {},
   "outputs": [
    {
     "name": "stdout",
     "output_type": "stream",
     "text": [
      "[ 1 30  2  6  2  1  4  5]\n",
      "[ 1  1  2  2  4  5  6 30]\n"
     ]
    }
   ],
   "source": [
    "#sort the array Element\n",
    "print('Befor sort',arr)\n",
    "ar5=np.sort(arr)\n",
    "print('After sort',ar5)"
   ]
  },
  {
   "cell_type": "markdown",
   "id": "b21fcca5-0207-4b8f-811b-1b58c17fe82a",
   "metadata": {},
   "source": [
    "# Deep copying :- \n",
    "* This method makes a complete copy of an existing array and its elemnts\n",
    "* When the newly created array is modified , it will not affect the existing array or vice versa\n"
   ]
  },
  {
   "cell_type": "code",
   "execution_count": 70,
   "id": "f0a8e2c6-172c-4ca7-b8c2-b9518ebcb030",
   "metadata": {},
   "outputs": [
    {
     "name": "stdout",
     "output_type": "stream",
     "text": [
      "Original Array is  [ 3  4  5  6  7  8  9 10 11]\n",
      "************************************************************\n",
      "Original Array is  [ 3  4  5  6  7  8  9 10 11]\n",
      "************************************************************\n",
      "Modified Array is  [ 3 16  5  6  7  8  9 10 11]\n"
     ]
    }
   ],
   "source": [
    "#Difference Between Deep copy and Shallow copy \n",
    "a=np.arange(3,12)\n",
    "b=a.copy()\n",
    "print('Original Array is ',a)\n",
    "print('*'*60)\n",
    "b[1]=16\n",
    "\n",
    "print('Original Array is ',a)\n",
    "print('*'*60)\n",
    "print('Modified Array is ',b)\n",
    "\n"
   ]
  },
  {
   "cell_type": "markdown",
   "id": "c0005bd6-88a1-4913-af37-17418cc71ef9",
   "metadata": {},
   "source": [
    "#Shallow Copy  view "
   ]
  },
  {
   "cell_type": "code",
   "execution_count": 71,
   "id": "3672d88a-1b58-40af-b429-1a79d5483d94",
   "metadata": {},
   "outputs": [
    {
     "name": "stdout",
     "output_type": "stream",
     "text": [
      "Original Array is  [ 3  4  5  6  7  8  9 10 11]\n",
      "************************************************************\n",
      "Original Array is  [ 3 16  5  6  7  8  9 10 11]\n",
      "************************************************************\n",
      "Modified Array is  [ 3 16  5  6  7  8  9 10 11]\n"
     ]
    }
   ],
   "source": [
    "#Shallow Copy \n",
    "a=np.arange(3,12)\n",
    "b=a.view()\n",
    "print('Original Array is ',a)\n",
    "print('*'*60)\n",
    "b[1]=16\n",
    "\n",
    "print('Original Array is ',a)\n",
    "print('*'*60)\n",
    "print('Modified Array is ',b)"
   ]
  },
  {
   "cell_type": "code",
   "execution_count": null,
   "id": "acb4b224-719b-4fcf-9d44-93d13c04b56b",
   "metadata": {},
   "outputs": [],
   "source": []
  }
 ],
 "metadata": {
  "kernelspec": {
   "display_name": "Python 3 (ipykernel)",
   "language": "python",
   "name": "python3"
  },
  "language_info": {
   "codemirror_mode": {
    "name": "ipython",
    "version": 3
   },
   "file_extension": ".py",
   "mimetype": "text/x-python",
   "name": "python",
   "nbconvert_exporter": "python",
   "pygments_lexer": "ipython3",
   "version": "3.11.7"
  }
 },
 "nbformat": 4,
 "nbformat_minor": 5
}
